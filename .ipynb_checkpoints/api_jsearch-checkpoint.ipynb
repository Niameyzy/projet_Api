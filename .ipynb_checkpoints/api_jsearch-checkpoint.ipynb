{
 "cells": [
  {
   "cell_type": "code",
   "execution_count": 1,
   "id": "3b5b5ba5-ea13-4f97-9f55-ab12d3e61c53",
   "metadata": {},
   "outputs": [],
   "source": [
    "import pandas as pd"
   ]
  },
  {
   "cell_type": "code",
   "execution_count": 2,
   "id": "11bcacbc-24b7-4de5-8222-473466747dd9",
   "metadata": {},
   "outputs": [],
   "source": [
    "df=pd.read_csv('api_jsearch.csv')"
   ]
  },
  {
   "cell_type": "code",
   "execution_count": 3,
   "id": "a42ea326-a4f9-4ba3-821d-c9ccc91e91ac",
   "metadata": {},
   "outputs": [
    {
     "data": {
      "text/plain": [
       "(299, 51)"
      ]
     },
     "execution_count": 3,
     "metadata": {},
     "output_type": "execute_result"
    }
   ],
   "source": [
    "df.shape"
   ]
  },
  {
   "cell_type": "code",
   "execution_count": 4,
   "id": "90c4cb29-cab2-4cfb-a8e1-ca21ba4cf5b3",
   "metadata": {},
   "outputs": [
    {
     "data": {
      "text/html": [
       "<div>\n",
       "<style scoped>\n",
       "    .dataframe tbody tr th:only-of-type {\n",
       "        vertical-align: middle;\n",
       "    }\n",
       "\n",
       "    .dataframe tbody tr th {\n",
       "        vertical-align: top;\n",
       "    }\n",
       "\n",
       "    .dataframe thead th {\n",
       "        text-align: right;\n",
       "    }\n",
       "</style>\n",
       "<table border=\"1\" class=\"dataframe\">\n",
       "  <thead>\n",
       "    <tr style=\"text-align: right;\">\n",
       "      <th></th>\n",
       "      <th>job_id</th>\n",
       "      <th>employer_name</th>\n",
       "      <th>employer_logo</th>\n",
       "      <th>employer_website</th>\n",
       "      <th>employer_company_type</th>\n",
       "      <th>employer_linkedin</th>\n",
       "      <th>job_publisher</th>\n",
       "      <th>job_employment_type</th>\n",
       "      <th>job_title</th>\n",
       "      <th>job_apply_link</th>\n",
       "      <th>...</th>\n",
       "      <th>job_required_experience.experience_mentioned</th>\n",
       "      <th>job_required_experience.experience_preferred</th>\n",
       "      <th>job_required_education.postgraduate_degree</th>\n",
       "      <th>job_required_education.professional_certification</th>\n",
       "      <th>job_required_education.high_school</th>\n",
       "      <th>job_required_education.associates_degree</th>\n",
       "      <th>job_required_education.bachelors_degree</th>\n",
       "      <th>job_required_education.degree_mentioned</th>\n",
       "      <th>job_required_education.degree_preferred</th>\n",
       "      <th>job_required_education.professional_certification_mentioned</th>\n",
       "    </tr>\n",
       "  </thead>\n",
       "  <tbody>\n",
       "    <tr>\n",
       "      <th>0</th>\n",
       "      <td>5Vw-5XA2IVM_vdWdAAAAAA==</td>\n",
       "      <td>Alvarez and Marsal</td>\n",
       "      <td>https://encrypted-tbn0.gstatic.com/images?q=tb...</td>\n",
       "      <td>http://www.alvarezandmarsal.com</td>\n",
       "      <td>Consulting</td>\n",
       "      <td>NaN</td>\n",
       "      <td>Alvarez &amp; Marsal Careers</td>\n",
       "      <td>FULLTIME</td>\n",
       "      <td>Analyst, Data Analytics - Transaction Services</td>\n",
       "      <td>https://careers.alvarezandmarsal.com/jobs/1504...</td>\n",
       "      <td>...</td>\n",
       "      <td>True</td>\n",
       "      <td>True</td>\n",
       "      <td>False</td>\n",
       "      <td>False</td>\n",
       "      <td>False</td>\n",
       "      <td>False</td>\n",
       "      <td>False</td>\n",
       "      <td>False</td>\n",
       "      <td>False</td>\n",
       "      <td>False</td>\n",
       "    </tr>\n",
       "  </tbody>\n",
       "</table>\n",
       "<p>1 rows × 51 columns</p>\n",
       "</div>"
      ],
      "text/plain": [
       "                     job_id       employer_name  \\\n",
       "0  5Vw-5XA2IVM_vdWdAAAAAA==  Alvarez and Marsal   \n",
       "\n",
       "                                       employer_logo  \\\n",
       "0  https://encrypted-tbn0.gstatic.com/images?q=tb...   \n",
       "\n",
       "                  employer_website employer_company_type  employer_linkedin  \\\n",
       "0  http://www.alvarezandmarsal.com            Consulting                NaN   \n",
       "\n",
       "              job_publisher job_employment_type  \\\n",
       "0  Alvarez & Marsal Careers            FULLTIME   \n",
       "\n",
       "                                        job_title  \\\n",
       "0  Analyst, Data Analytics - Transaction Services   \n",
       "\n",
       "                                      job_apply_link  ...  \\\n",
       "0  https://careers.alvarezandmarsal.com/jobs/1504...  ...   \n",
       "\n",
       "   job_required_experience.experience_mentioned  \\\n",
       "0                                          True   \n",
       "\n",
       "   job_required_experience.experience_preferred  \\\n",
       "0                                          True   \n",
       "\n",
       "  job_required_education.postgraduate_degree  \\\n",
       "0                                      False   \n",
       "\n",
       "  job_required_education.professional_certification  \\\n",
       "0                                             False   \n",
       "\n",
       "   job_required_education.high_school  \\\n",
       "0                               False   \n",
       "\n",
       "   job_required_education.associates_degree  \\\n",
       "0                                     False   \n",
       "\n",
       "  job_required_education.bachelors_degree  \\\n",
       "0                                   False   \n",
       "\n",
       "  job_required_education.degree_mentioned  \\\n",
       "0                                   False   \n",
       "\n",
       "  job_required_education.degree_preferred  \\\n",
       "0                                   False   \n",
       "\n",
       "  job_required_education.professional_certification_mentioned  \n",
       "0                                              False           \n",
       "\n",
       "[1 rows x 51 columns]"
      ]
     },
     "execution_count": 4,
     "metadata": {},
     "output_type": "execute_result"
    }
   ],
   "source": [
    "df.head(1)"
   ]
  },
  {
   "cell_type": "code",
   "execution_count": 5,
   "id": "fc3ff945-3722-4a3f-9352-ea145fd411dc",
   "metadata": {},
   "outputs": [
    {
     "data": {
      "text/plain": [
       "51.50501672240802"
      ]
     },
     "execution_count": 5,
     "metadata": {},
     "output_type": "execute_result"
    }
   ],
   "source": [
    "# checking Null value - specially from 'employer_company_type' column. If the column is not fill the other columns is not not fill for the rest of each row\n",
    "(df['employer_company_type'].isna().sum()/len(df['employer_company_type']))*100"
   ]
  },
  {
   "cell_type": "code",
   "execution_count": 6,
   "id": "437000da-e0a5-4148-b630-37ee557bff29",
   "metadata": {},
   "outputs": [],
   "source": [
    "# select rows were the column \"employer_company_type\" is filling \n",
    "df_emp = df[(df[\"employer_company_type\"].isna()==False)]"
   ]
  },
  {
   "cell_type": "code",
   "execution_count": 7,
   "id": "03ab3126-3c07-4054-8241-c4f1112ab615",
   "metadata": {},
   "outputs": [
    {
     "name": "stdout",
     "output_type": "stream",
     "text": [
      "<class 'pandas.core.frame.DataFrame'>\n",
      "Index: 145 entries, 0 to 296\n",
      "Data columns (total 51 columns):\n",
      " #   Column                                                       Non-Null Count  Dtype  \n",
      "---  ------                                                       --------------  -----  \n",
      " 0   job_id                                                       145 non-null    object \n",
      " 1   employer_name                                                145 non-null    object \n",
      " 2   employer_logo                                                145 non-null    object \n",
      " 3   employer_website                                             145 non-null    object \n",
      " 4   employer_company_type                                        145 non-null    object \n",
      " 5   employer_linkedin                                            0 non-null      float64\n",
      " 6   job_publisher                                                145 non-null    object \n",
      " 7   job_employment_type                                          145 non-null    object \n",
      " 8   job_title                                                    145 non-null    object \n",
      " 9   job_apply_link                                               145 non-null    object \n",
      " 10  job_apply_is_direct                                          145 non-null    bool   \n",
      " 11  job_apply_quality_score                                      145 non-null    float64\n",
      " 12  apply_options                                                145 non-null    object \n",
      " 13  job_description                                              145 non-null    object \n",
      " 14  job_is_remote                                                145 non-null    bool   \n",
      " 15  job_posted_at_timestamp                                      143 non-null    float64\n",
      " 16  job_posted_at_datetime_utc                                   143 non-null    object \n",
      " 17  job_city                                                     126 non-null    object \n",
      " 18  job_state                                                    95 non-null     object \n",
      " 19  job_country                                                  145 non-null    object \n",
      " 20  job_latitude                                                 145 non-null    float64\n",
      " 21  job_longitude                                                145 non-null    float64\n",
      " 22  job_benefits                                                 0 non-null      float64\n",
      " 23  job_google_link                                              145 non-null    object \n",
      " 24  job_offer_expiration_datetime_utc                            47 non-null     object \n",
      " 25  job_offer_expiration_timestamp                               47 non-null     float64\n",
      " 26  job_required_skills                                          9 non-null      object \n",
      " 27  job_experience_in_place_of_education                         145 non-null    bool   \n",
      " 28  job_min_salary                                               8 non-null      float64\n",
      " 29  job_max_salary                                               8 non-null      float64\n",
      " 30  job_salary_currency                                          0 non-null      float64\n",
      " 31  job_salary_period                                            0 non-null      float64\n",
      " 32  job_job_title                                                102 non-null    object \n",
      " 33  job_posting_language                                         145 non-null    object \n",
      " 34  job_onet_soc                                                 145 non-null    int64  \n",
      " 35  job_onet_job_zone                                            145 non-null    float64\n",
      " 36  job_occupational_categories                                  37 non-null     object \n",
      " 37  job_naics_code                                               145 non-null    float64\n",
      " 38  job_naics_name                                               145 non-null    object \n",
      " 39  job_required_experience.no_experience_required               145 non-null    bool   \n",
      " 40  job_required_experience.required_experience_in_months        34 non-null     float64\n",
      " 41  job_required_experience.experience_mentioned                 145 non-null    bool   \n",
      " 42  job_required_experience.experience_preferred                 145 non-null    bool   \n",
      " 43  job_required_education.postgraduate_degree                   145 non-null    bool   \n",
      " 44  job_required_education.professional_certification            145 non-null    bool   \n",
      " 45  job_required_education.high_school                           145 non-null    bool   \n",
      " 46  job_required_education.associates_degree                     145 non-null    bool   \n",
      " 47  job_required_education.bachelors_degree                      145 non-null    bool   \n",
      " 48  job_required_education.degree_mentioned                      145 non-null    bool   \n",
      " 49  job_required_education.degree_preferred                      145 non-null    bool   \n",
      " 50  job_required_education.professional_certification_mentioned  145 non-null    bool   \n",
      "dtypes: bool(14), float64(14), int64(1), object(22)\n",
      "memory usage: 45.0+ KB\n"
     ]
    }
   ],
   "source": [
    "df_emp.info()"
   ]
  },
  {
   "cell_type": "code",
   "execution_count": 8,
   "id": "f5145d9b-89e5-4135-9d54-821af0d0ca64",
   "metadata": {},
   "outputs": [
    {
     "name": "stderr",
     "output_type": "stream",
     "text": [
      "C:\\Users\\HP\\AppData\\Local\\Temp\\ipykernel_22984\\3089315812.py:2: SettingWithCopyWarning: \n",
      "A value is trying to be set on a copy of a slice from a DataFrame\n",
      "\n",
      "See the caveats in the documentation: https://pandas.pydata.org/pandas-docs/stable/user_guide/indexing.html#returning-a-view-versus-a-copy\n",
      "  df_emp.drop(['employer_logo', 'employer_website','job_latitude', 'job_longitude', 'job_google_link','job_offer_expiration_datetime_utc',\n"
     ]
    }
   ],
   "source": [
    "# Null Values in these columns, we can drop it\n",
    "df_emp.drop(['employer_logo', 'employer_website','job_latitude', 'job_longitude', 'job_google_link','job_offer_expiration_datetime_utc', \n",
    "             'job_offer_expiration_timestamp','job_benefits','job_required_skills','employer_linkedin',\n",
    "             'job_salary_currency','job_salary_period'], axis=1, inplace=True)"
   ]
  },
  {
   "cell_type": "code",
   "execution_count": 9,
   "id": "d1f49e79-2803-44a8-9e0b-e796219b7fa9",
   "metadata": {},
   "outputs": [
    {
     "data": {
      "text/plain": [
       "(145, 39)"
      ]
     },
     "execution_count": 9,
     "metadata": {},
     "output_type": "execute_result"
    }
   ],
   "source": [
    "df_emp.shape"
   ]
  },
  {
   "cell_type": "markdown",
   "id": "fb52f601-bc7d-47a9-b71f-a4a0d1c6332f",
   "metadata": {},
   "source": [
    "### Jobs offers by type of compagnies\n",
    "top 5 companies recruiting "
   ]
  },
  {
   "cell_type": "code",
   "execution_count": 16,
   "id": "5f599a73-af96-4e6e-9408-0d5851738fe9",
   "metadata": {},
   "outputs": [
    {
     "data": {
      "text/html": [
       "<div>\n",
       "<style scoped>\n",
       "    .dataframe tbody tr th:only-of-type {\n",
       "        vertical-align: middle;\n",
       "    }\n",
       "\n",
       "    .dataframe tbody tr th {\n",
       "        vertical-align: top;\n",
       "    }\n",
       "\n",
       "    .dataframe thead th {\n",
       "        text-align: right;\n",
       "    }\n",
       "</style>\n",
       "<table border=\"1\" class=\"dataframe\">\n",
       "  <thead>\n",
       "    <tr style=\"text-align: right;\">\n",
       "      <th></th>\n",
       "      <th>employer_company_type</th>\n",
       "      <th>count</th>\n",
       "    </tr>\n",
       "  </thead>\n",
       "  <tbody>\n",
       "    <tr>\n",
       "      <th>0</th>\n",
       "      <td>Finance</td>\n",
       "      <td>25.0</td>\n",
       "    </tr>\n",
       "    <tr>\n",
       "      <th>1</th>\n",
       "      <td>Information</td>\n",
       "      <td>15.0</td>\n",
       "    </tr>\n",
       "    <tr>\n",
       "      <th>2</th>\n",
       "      <td>Consulting</td>\n",
       "      <td>12.0</td>\n",
       "    </tr>\n",
       "    <tr>\n",
       "      <th>3</th>\n",
       "      <td>Computer Services</td>\n",
       "      <td>10.0</td>\n",
       "    </tr>\n",
       "    <tr>\n",
       "      <th>4</th>\n",
       "      <td>Advertising</td>\n",
       "      <td>10.0</td>\n",
       "    </tr>\n",
       "  </tbody>\n",
       "</table>\n",
       "</div>"
      ],
      "text/plain": [
       "  employer_company_type  count\n",
       "0               Finance   25.0\n",
       "1           Information   15.0\n",
       "2            Consulting   12.0\n",
       "3     Computer Services   10.0\n",
       "4           Advertising   10.0"
      ]
     },
     "execution_count": 16,
     "metadata": {},
     "output_type": "execute_result"
    }
   ],
   "source": [
    "compagany_type=round((df_emp['employer_company_type'].value_counts()/len(df_emp['employer_company_type'])*100),0)\n",
    "top5_compagny_type= compagany_type.head(5).reset_index()\n",
    "top5_compagny_type"
   ]
  },
  {
   "cell_type": "code",
   "execution_count": 31,
   "id": "2924c10a-d0f8-4aab-af7b-3976075d3aaf",
   "metadata": {},
   "outputs": [
    {
     "data": {
      "text/plain": [
       "<Axes: xlabel='count', ylabel='employer_company_type'>"
      ]
     },
     "execution_count": 31,
     "metadata": {},
     "output_type": "execute_result"
    },
    {
     "data": {
      "image/png": "[encoded data removed]",
      "text/plain": [
       "<Figure size 640x480 with 1 Axes>"
      ]
     },
     "metadata": {},
     "output_type": "display_data"
    }
   ],
   "source": [
    "import matplotlib.pyplot as plt \n",
    "import seaborn as sns\n",
    "sns.barplot(x='count', y='employer_company_type', data=top5_compagny_type)"
   ]
  },
  {
   "cell_type": "code",
   "execution_count": 19,
   "id": "5aee3495-4797-4840-8079-09642d26be13",
   "metadata": {},
   "outputs": [
    {
     "data": {
      "text/plain": [
       "job_employment_type\n",
       "FULLTIME               113\n",
       "INTERN                  20\n",
       "PARTTIME                 9\n",
       "CONTRACTOR               3\n",
       "Name: count, dtype: int64"
      ]
     },
     "execution_count": 19,
     "metadata": {},
     "output_type": "execute_result"
    }
   ],
   "source": [
    "job_employment_type= df_emp[['job_employment_type']].value_counts()\n",
    "job_employment_type"
   ]
  },
  {
   "cell_type": "markdown",
   "id": "7ea57541-ad61-4495-b97c-93bf7cb17c36",
   "metadata": {},
   "source": [
    "### jobs search by localisation\n",
    "jobs offers focus on idf principaly in PARIS"
   ]
  },
  {
   "cell_type": "code",
   "execution_count": 20,
   "id": "95bd1653-de07-4be3-82ba-c3e5f9a1ca18",
   "metadata": {},
   "outputs": [],
   "source": [
    "def city_replace(job_city):\n",
    "    if job_city in  ['Paris','Puteaux','Issy-les-Moulineaux','Bagneux','Nanterre','Gif-sur-Yvette','Saint-Michel-sur-Orge',\n",
    "                     'Vélizy-Villacoublay','Montereau-sur-le-Jard','Aubervilliers','Courbevoie','Châtillon','Orsay','Rueil-Malmaison',\n",
    "                    'Versailles','Malakoff','Trappes','Suresnes','Neuilly-sur-Seine','Boulogne-Billancourt' ]:\n",
    "        return 'IDF'\n",
    "    else:\n",
    "        return job_city"
   ]
  },
  {
   "cell_type": "code",
   "execution_count": 21,
   "id": "f4366fbd-4102-44b8-a390-7e638922092c",
   "metadata": {},
   "outputs": [
    {
     "name": "stderr",
     "output_type": "stream",
     "text": [
      "C:\\Users\\HP\\AppData\\Local\\Temp\\ipykernel_22984\\1090248538.py:1: SettingWithCopyWarning: \n",
      "A value is trying to be set on a copy of a slice from a DataFrame.\n",
      "Try using .loc[row_indexer,col_indexer] = value instead\n",
      "\n",
      "See the caveats in the documentation: https://pandas.pydata.org/pandas-docs/stable/user_guide/indexing.html#returning-a-view-versus-a-copy\n",
      "  df_emp['city_maps']= df_emp['job_city'].apply(city_replace)\n"
     ]
    }
   ],
   "source": [
    "df_emp['city_maps']= df_emp['job_city'].apply(city_replace)"
   ]
  },
  {
   "cell_type": "code",
   "execution_count": 22,
   "id": "7a18beec-6eb9-490b-943a-e7577dc0ea05",
   "metadata": {},
   "outputs": [
    {
     "data": {
      "text/plain": [
       "job_country  city_maps              \n",
       "FR           IDF                        37\n",
       "ES           Barcelona                  24\n",
       "             Madrid                     20\n",
       "PT           Lisboa                     17\n",
       "             Porto Salvo                 3\n",
       "FR           Le Nouvion-en-Thiérache     3\n",
       "PT           Porto                       2\n",
       "             Carnaxide                   2\n",
       "FR           Montpellier                 2\n",
       "BG           София                       2\n",
       "ES           València                    2\n",
       "             Pozuelo de Alarcón          2\n",
       "             Murcia                      2\n",
       "             Getafe                      2\n",
       "             Badalona                    1\n",
       "             Tarragona                   1\n",
       "NL           Amsterdam                   1\n",
       "PT           Braga                       1\n",
       "ES           Málaga                      1\n",
       "             Vic                         1\n",
       "Name: count, dtype: int64"
      ]
     },
     "execution_count": 22,
     "metadata": {},
     "output_type": "execute_result"
    }
   ],
   "source": [
    "city_jobs= df_emp[['job_country','city_maps']].value_counts()\n",
    "city_jobs"
   ]
  },
  {
   "cell_type": "code",
   "execution_count": 111,
   "id": "5a270a49-9ec0-429c-8ccf-bd9d2a08022b",
   "metadata": {},
   "outputs": [
    {
     "data": {
      "text/html": [
       "<div>\n",
       "<style scoped>\n",
       "    .dataframe tbody tr th:only-of-type {\n",
       "        vertical-align: middle;\n",
       "    }\n",
       "\n",
       "    .dataframe tbody tr th {\n",
       "        vertical-align: top;\n",
       "    }\n",
       "\n",
       "    .dataframe thead th {\n",
       "        text-align: right;\n",
       "    }\n",
       "</style>\n",
       "<table border=\"1\" class=\"dataframe\">\n",
       "  <thead>\n",
       "    <tr style=\"text-align: right;\">\n",
       "      <th></th>\n",
       "      <th>job_id</th>\n",
       "      <th>employer_name</th>\n",
       "      <th>employer_company_type</th>\n",
       "      <th>job_publisher</th>\n",
       "      <th>job_employment_type</th>\n",
       "      <th>job_title</th>\n",
       "      <th>job_apply_link</th>\n",
       "      <th>job_apply_is_direct</th>\n",
       "      <th>job_apply_quality_score</th>\n",
       "      <th>apply_options</th>\n",
       "      <th>...</th>\n",
       "      <th>job_required_experience.experience_preferred</th>\n",
       "      <th>job_required_education.postgraduate_degree</th>\n",
       "      <th>job_required_education.professional_certification</th>\n",
       "      <th>job_required_education.high_school</th>\n",
       "      <th>job_required_education.associates_degree</th>\n",
       "      <th>job_required_education.bachelors_degree</th>\n",
       "      <th>job_required_education.degree_mentioned</th>\n",
       "      <th>job_required_education.degree_preferred</th>\n",
       "      <th>job_required_education.professional_certification_mentioned</th>\n",
       "      <th>city_maps</th>\n",
       "    </tr>\n",
       "  </thead>\n",
       "  <tbody>\n",
       "    <tr>\n",
       "      <th>0</th>\n",
       "      <td>5Vw-5XA2IVM_vdWdAAAAAA==</td>\n",
       "      <td>Alvarez and Marsal</td>\n",
       "      <td>Consulting</td>\n",
       "      <td>Alvarez &amp; Marsal Careers</td>\n",
       "      <td>FULLTIME</td>\n",
       "      <td>Analyst, Data Analytics - Transaction Services</td>\n",
       "      <td>https://careers.alvarezandmarsal.com/jobs/1504...</td>\n",
       "      <td>False</td>\n",
       "      <td>0.8623</td>\n",
       "      <td>[{'publisher': 'Alvarez &amp; Marsal Careers', 'ap...</td>\n",
       "      <td>...</td>\n",
       "      <td>True</td>\n",
       "      <td>False</td>\n",
       "      <td>False</td>\n",
       "      <td>False</td>\n",
       "      <td>False</td>\n",
       "      <td>False</td>\n",
       "      <td>False</td>\n",
       "      <td>False</td>\n",
       "      <td>False</td>\n",
       "      <td>IDF</td>\n",
       "    </tr>\n",
       "  </tbody>\n",
       "</table>\n",
       "<p>1 rows × 40 columns</p>\n",
       "</div>"
      ],
      "text/plain": [
       "                     job_id       employer_name employer_company_type  \\\n",
       "0  5Vw-5XA2IVM_vdWdAAAAAA==  Alvarez and Marsal            Consulting   \n",
       "\n",
       "              job_publisher job_employment_type  \\\n",
       "0  Alvarez & Marsal Careers            FULLTIME   \n",
       "\n",
       "                                        job_title  \\\n",
       "0  Analyst, Data Analytics - Transaction Services   \n",
       "\n",
       "                                      job_apply_link  job_apply_is_direct  \\\n",
       "0  https://careers.alvarezandmarsal.com/jobs/1504...                False   \n",
       "\n",
       "   job_apply_quality_score                                      apply_options  \\\n",
       "0                   0.8623  [{'publisher': 'Alvarez & Marsal Careers', 'ap...   \n",
       "\n",
       "   ... job_required_experience.experience_preferred  \\\n",
       "0  ...                                         True   \n",
       "\n",
       "   job_required_education.postgraduate_degree  \\\n",
       "0                                       False   \n",
       "\n",
       "   job_required_education.professional_certification  \\\n",
       "0                                              False   \n",
       "\n",
       "  job_required_education.high_school job_required_education.associates_degree  \\\n",
       "0                              False                                    False   \n",
       "\n",
       "  job_required_education.bachelors_degree  \\\n",
       "0                                   False   \n",
       "\n",
       "  job_required_education.degree_mentioned  \\\n",
       "0                                   False   \n",
       "\n",
       "   job_required_education.degree_preferred  \\\n",
       "0                                    False   \n",
       "\n",
       "   job_required_education.professional_certification_mentioned  city_maps  \n",
       "0                                              False                  IDF  \n",
       "\n",
       "[1 rows x 40 columns]"
      ]
     },
     "execution_count": 111,
     "metadata": {},
     "output_type": "execute_result"
    }
   ],
   "source": [
    "df_emp.head(1)"
   ]
  },
  {
   "cell_type": "code",
   "execution_count": 108,
   "id": "c5e77b60-2249-4c3a-a7d8-281ce5f5fbe6",
   "metadata": {},
   "outputs": [
    {
     "data": {
      "text/plain": [
       "111"
      ]
     },
     "execution_count": 108,
     "metadata": {},
     "output_type": "execute_result"
    }
   ],
   "source": [
    "df_emp['job_required_experience.required_experience_in_months'].isna().sum()"
   ]
  },
  {
   "cell_type": "code",
   "execution_count": 110,
   "id": "359b4384-42e7-407e-a56f-896d62961498",
   "metadata": {},
   "outputs": [
    {
     "data": {
      "text/plain": [
       "job_required_experience.required_experience_in_months\n",
       "36.0     38.2\n",
       "60.0     32.4\n",
       "12.0      8.8\n",
       "120.0     5.9\n",
       "24.0      5.9\n",
       "48.0      2.9\n",
       "84.0      2.9\n",
       "360.0     2.9\n",
       "Name: count, dtype: float64"
      ]
     },
     "execution_count": 110,
     "metadata": {},
     "output_type": "execute_result"
    }
   ],
   "source": [
    "required_experience_in_months= round((df_emp['job_required_experience.required_experience_in_months'].value_counts()\n",
    "                                     /df_emp['job_required_experience.required_experience_in_months'].count()*100),1)\n",
    "required_experience_in_months"
   ]
  }
 ],
 "metadata": {
  "kernelspec": {
   "display_name": "Python 3 (ipykernel)",
   "language": "python",
   "name": "python3"
  },
  "language_info": {
   "codemirror_mode": {
    "name": "ipython",
    "version": 3
   },
   "file_extension": ".py",
   "mimetype": "text/x-python",
   "name": "python",
   "nbconvert_exporter": "python",
   "pygments_lexer": "ipython3",
   "version": "3.11.7"
  }
 },
 "nbformat": 4,
 "nbformat_minor": 5
}
