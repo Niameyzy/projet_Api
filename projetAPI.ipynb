{
 "cells": [
  {
   "cell_type": "code",
   "execution_count": 1,
   "id": "3964a2d3-fcf4-417c-9ea5-79070470a7b5",
   "metadata": {},
   "outputs": [],
   "source": [
    "import pandas as pd "
   ]
  },
  {
   "cell_type": "code",
   "execution_count": 2,
   "id": "95e9f26a-42fd-4e57-a8d7-62b4624d87b9",
   "metadata": {},
   "outputs": [],
   "source": [
    "import requests"
   ]
  },
  {
   "cell_type": "code",
   "execution_count": 3,
   "id": "7231b388-07cf-4ee0-a541-2a164e8e6080",
   "metadata": {},
   "outputs": [],
   "source": [
    "url = \"https://jsearch.p.rapidapi.com/search\"\n",
    "\n",
    "querystring = {\"query\":\"Data analyst in france\",\"page\":\"1\",\"num_pages\":\"1\",\"date_posted\":\"all\"}\n",
    "\n",
    "headers = {\n",
    "\t\"x-rapidapi-key\": \"9f831f01b1msh1ceb69d5fb778f2p1b54a9jsn665f892c86d9\",\n",
    "\t\"x-rapidapi-host\": \"jsearch.p.rapidapi.com\"\n",
    "}\n",
    "response = requests.get(url, headers=headers, params=querystring)"
   ]
  },
  {
   "cell_type": "code",
   "execution_count": 4,
   "id": "4f61a3c6-a19a-40b6-9728-f2889d4b8bec",
   "metadata": {
    "scrolled": true
   },
   "outputs": [],
   "source": [
    "response=response.json()\n",
    "df1=pd.DataFrame(response['data'])"
   ]
  },
  {
   "cell_type": "code",
   "execution_count": 5,
   "id": "69a7638f-767f-4cec-9d8a-58ed21c48786",
   "metadata": {},
   "outputs": [],
   "source": [
    "url = \"https://jsearch.p.rapidapi.com/search\"\n",
    "\n",
    "querystring = {\"query\":\"Data analyst in france\",\"page\":\"2\",\"num_pages\":\"2\",\"date_posted\":\"all\"}\n",
    "\n",
    "headers = {\n",
    "\t\"x-rapidapi-key\": \"9f831f01b1msh1ceb69d5fb778f2p1b54a9jsn665f892c86d9\",\n",
    "\t\"x-rapidapi-host\": \"jsearch.p.rapidapi.com\"\n",
    "}\n",
    "\n",
    "response = requests.get(url, headers=headers, params=querystring)"
   ]
  },
  {
   "cell_type": "code",
   "execution_count": 6,
   "id": "695f393a-6599-4988-96c1-1556eeb2b769",
   "metadata": {},
   "outputs": [],
   "source": [
    "response=response.json()\n",
    "df2=pd.DataFrame(response['data'])"
   ]
  },
  {
   "cell_type": "code",
   "execution_count": 8,
   "id": "4e214b7f-03ee-411f-af9f-37cdd46eb3e1",
   "metadata": {},
   "outputs": [],
   "source": [
    "url = \"https://jsearch.p.rapidapi.com/search\"\n",
    "\n",
    "querystring = {\"query\":\"Data analyst in france\",\"page\":\"3\",\"num_pages\":\"3\",\"date_posted\":\"all\"}\n",
    "\n",
    "headers = {\n",
    "\t\"x-rapidapi-key\": \"9f831f01b1msh1ceb69d5fb778f2p1b54a9jsn665f892c86d9\",\n",
    "\t\"x-rapidapi-host\": \"jsearch.p.rapidapi.com\"\n",
    "}\n",
    "\n",
    "response = requests.get(url, headers=headers, params=querystring)"
   ]
  },
  {
   "cell_type": "code",
   "execution_count": 9,
   "id": "8146453c-d2de-4280-b4db-0eb429a6241b",
   "metadata": {},
   "outputs": [],
   "source": [
    "response=response.json()\n",
    "df3=pd.DataFrame(response['data'])"
   ]
  },
  {
   "cell_type": "code",
   "execution_count": 11,
   "id": "30b6ea23-a02c-455a-a9cc-b72e2757a29b",
   "metadata": {},
   "outputs": [],
   "source": [
    "url = \"https://jsearch.p.rapidapi.com/search\"\n",
    "\n",
    "querystring = {\"query\":\"Data analyst in france\",\"page\":\"4\",\"num_pages\":\"4\",\"date_posted\":\"all\"}\n",
    "\n",
    "headers = {\n",
    "\t\"x-rapidapi-key\": \"9f831f01b1msh1ceb69d5fb778f2p1b54a9jsn665f892c86d9\",\n",
    "\t\"x-rapidapi-host\": \"jsearch.p.rapidapi.com\"\n",
    "}\n",
    "\n",
    "response = requests.get(url, headers=headers, params=querystring)"
   ]
  },
  {
   "cell_type": "code",
   "execution_count": 12,
   "id": "e831e645-3455-437e-825a-21f4c4d6e1b3",
   "metadata": {},
   "outputs": [],
   "source": [
    "response=response.json()\n",
    "df4=pd.DataFrame(response['data'])"
   ]
  },
  {
   "cell_type": "code",
   "execution_count": 14,
   "id": "7b59f93e-ffb7-4565-849c-0770c4732a3b",
   "metadata": {},
   "outputs": [],
   "source": [
    "url = \"https://jsearch.p.rapidapi.com/search\"\n",
    "\n",
    "querystring = {\"query\":\"Data analyst in france\",\"page\":\"5\",\"num_pages\":\"5\",\"date_posted\":\"all\"}\n",
    "\n",
    "headers = {\n",
    "\t\"x-rapidapi-key\": \"9f831f01b1msh1ceb69d5fb778f2p1b54a9jsn665f892c86d9\",\n",
    "\t\"x-rapidapi-host\": \"jsearch.p.rapidapi.com\"\n",
    "}\n",
    "\n",
    "response = requests.get(url, headers=headers, params=querystring)"
   ]
  },
  {
   "cell_type": "code",
   "execution_count": 15,
   "id": "63d88e61-9060-4141-aec7-cbf9cedf4136",
   "metadata": {},
   "outputs": [],
   "source": [
    "response=response.json()\n",
    "df5=pd.DataFrame(response['data'])"
   ]
  },
  {
   "cell_type": "code",
   "execution_count": 17,
   "id": "efd034ed-be5f-45f9-abfb-31ac325279ca",
   "metadata": {},
   "outputs": [],
   "source": [
    "url = \"https://jsearch.p.rapidapi.com/search\"\n",
    "\n",
    "querystring = {\"query\":\"Data analyst in france\",\"page\":\"6\",\"num_pages\":\"6\",\"date_posted\":\"all\"}\n",
    "\n",
    "headers = {\n",
    "\t\"x-rapidapi-key\": \"9f831f01b1msh1ceb69d5fb778f2p1b54a9jsn665f892c86d9\",\n",
    "\t\"x-rapidapi-host\": \"jsearch.p.rapidapi.com\"\n",
    "}\n",
    "\n",
    "response = requests.get(url, headers=headers, params=querystring)"
   ]
  },
  {
   "cell_type": "code",
   "execution_count": 18,
   "id": "ba6f01ce-f788-4e4b-956d-5e81aacba77e",
   "metadata": {},
   "outputs": [],
   "source": [
    "response=response.json()\n",
    "df6=pd.DataFrame(response['data'])"
   ]
  },
  {
   "cell_type": "code",
   "execution_count": 20,
   "id": "6d22b2c2-711b-4859-9b95-9d1d825f320c",
   "metadata": {},
   "outputs": [],
   "source": [
    "url = \"https://jsearch.p.rapidapi.com/search\"\n",
    "\n",
    "querystring = {\"query\":\"Data analyst in Spain\",\"page\":\"1\",\"num_pages\":\"1\",\"date_posted\":\"all\"}\n",
    "\n",
    "headers = {\n",
    "\t\"x-rapidapi-key\": \"9f831f01b1msh1ceb69d5fb778f2p1b54a9jsn665f892c86d9\",\n",
    "\t\"x-rapidapi-host\": \"jsearch.p.rapidapi.com\"\n",
    "}\n",
    "\n",
    "response = requests.get(url, headers=headers, params=querystring)"
   ]
  },
  {
   "cell_type": "code",
   "execution_count": 21,
   "id": "eec334db-4fae-4e35-b5eb-4306e88b22bd",
   "metadata": {},
   "outputs": [],
   "source": [
    "response=response.json()\n",
    "df7=pd.DataFrame(response['data'])"
   ]
  },
  {
   "cell_type": "code",
   "execution_count": 23,
   "id": "0e3e4d05-51fa-48d9-8781-97304e5ca6f7",
   "metadata": {},
   "outputs": [],
   "source": [
    "url = \"https://jsearch.p.rapidapi.com/search\"\n",
    "\n",
    "querystring = {\"query\":\"Data analyst in spain\",\"page\":\"2\",\"num_pages\":\"2\",\"date_posted\":\"all\"}\n",
    "\n",
    "headers = {\n",
    "\t\"x-rapidapi-key\": \"9f831f01b1msh1ceb69d5fb778f2p1b54a9jsn665f892c86d9\",\n",
    "\t\"x-rapidapi-host\": \"jsearch.p.rapidapi.com\"\n",
    "}\n",
    "\n",
    "response = requests.get(url, headers=headers, params=querystring)\n"
   ]
  },
  {
   "cell_type": "code",
   "execution_count": 24,
   "id": "0b79bea7-9941-4e18-9c28-f3f7f2b149c1",
   "metadata": {},
   "outputs": [],
   "source": [
    "response=response.json()\n",
    "df8=pd.DataFrame(response['data'])"
   ]
  },
  {
   "cell_type": "code",
   "execution_count": 26,
   "id": "357ecc14-a2f4-4b9d-88cf-a5745c3c1e6d",
   "metadata": {},
   "outputs": [],
   "source": [
    "url = \"https://jsearch.p.rapidapi.com/search\"\n",
    "\n",
    "querystring = {\"query\":\"Data analyst in spain\",\"page\":\"3\",\"num_pages\":\"3\",\"date_posted\":\"all\"}\n",
    "\n",
    "headers = {\n",
    "\t\"x-rapidapi-key\": \"9f831f01b1msh1ceb69d5fb778f2p1b54a9jsn665f892c86d9\",\n",
    "\t\"x-rapidapi-host\": \"jsearch.p.rapidapi.com\"\n",
    "}\n",
    "\n",
    "response = requests.get(url, headers=headers, params=querystring)"
   ]
  },
  {
   "cell_type": "code",
   "execution_count": 27,
   "id": "ac5077e7-663e-4bd0-a5cb-5b5eedbe64de",
   "metadata": {},
   "outputs": [],
   "source": [
    "response=response.json()\n",
    "df9=pd.DataFrame(response['data'])"
   ]
  },
  {
   "cell_type": "code",
   "execution_count": 29,
   "id": "c765b03a-e453-40b9-b9d2-097c39c9d0db",
   "metadata": {},
   "outputs": [],
   "source": [
    "url = \"https://jsearch.p.rapidapi.com/search\"\n",
    "\n",
    "querystring = {\"query\":\"Data analyst in spain\",\"page\":\"4\",\"num_pages\":\"4\",\"date_posted\":\"all\"}\n",
    "\n",
    "headers = {\n",
    "\t\"x-rapidapi-key\": \"9f831f01b1msh1ceb69d5fb778f2p1b54a9jsn665f892c86d9\",\n",
    "\t\"x-rapidapi-host\": \"jsearch.p.rapidapi.com\"\n",
    "}\n",
    "\n",
    "response = requests.get(url, headers=headers, params=querystring)"
   ]
  },
  {
   "cell_type": "code",
   "execution_count": 30,
   "id": "8c745dae-db93-4c77-873b-4ce3afa5ab4e",
   "metadata": {},
   "outputs": [],
   "source": [
    "response=response.json()\n",
    "df10=pd.DataFrame(response['data'])"
   ]
  },
  {
   "cell_type": "code",
   "execution_count": 31,
   "id": "15497041-fc23-4943-9fcf-4c5516469c7b",
   "metadata": {},
   "outputs": [],
   "source": [
    "url = \"https://jsearch.p.rapidapi.com/search\"\n",
    "\n",
    "querystring = {\"query\":\"Data analyst in portugual\",\"page\":\"1\",\"num_pages\":\"1\",\"date_posted\":\"all\"}\n",
    "\n",
    "headers = {\n",
    "\t\"x-rapidapi-key\": \"9f831f01b1msh1ceb69d5fb778f2p1b54a9jsn665f892c86d9\",\n",
    "\t\"x-rapidapi-host\": \"jsearch.p.rapidapi.com\"\n",
    "}\n",
    "\n",
    "response = requests.get(url, headers=headers, params=querystring)"
   ]
  },
  {
   "cell_type": "code",
   "execution_count": 32,
   "id": "74dfc640-aa12-41ba-9715-079048ea42b7",
   "metadata": {},
   "outputs": [],
   "source": [
    "response=response.json()\n",
    "df11=pd.DataFrame(response['data'])"
   ]
  },
  {
   "cell_type": "code",
   "execution_count": 34,
   "id": "87b06bc3-8d5e-4107-b139-9b77fc4a2d9e",
   "metadata": {},
   "outputs": [],
   "source": [
    "url = \"https://jsearch.p.rapidapi.com/search\"\n",
    "\n",
    "querystring = {\"query\":\"Data analyst in portugual\",\"page\":\"2\",\"num_pages\":\"2\",\"date_posted\":\"all\"}\n",
    "\n",
    "headers = {\n",
    "\t\"x-rapidapi-key\": \"9f831f01b1msh1ceb69d5fb778f2p1b54a9jsn665f892c86d9\",\n",
    "\t\"x-rapidapi-host\": \"jsearch.p.rapidapi.com\"\n",
    "}\n",
    "\n",
    "response = requests.get(url, headers=headers, params=querystring)"
   ]
  },
  {
   "cell_type": "code",
   "execution_count": 35,
   "id": "11f8d810-f371-4cb8-bae7-8742dc3e4f7e",
   "metadata": {},
   "outputs": [],
   "source": [
    "response=response.json()\n",
    "df12=pd.DataFrame(response['data'])"
   ]
  },
  {
   "cell_type": "code",
   "execution_count": 39,
   "id": "0c5a0a75-d223-40ec-a37a-8a435a960045",
   "metadata": {},
   "outputs": [],
   "source": [
    "url = \"https://jsearch.p.rapidapi.com/search\"\n",
    "\n",
    "querystring = {\"query\":\"Data analyst in portugual\",\"page\":\"3\",\"num_pages\":\"3\",\"date_posted\":\"all\"}\n",
    "\n",
    "headers = {\n",
    "\t\"x-rapidapi-key\": \"9f831f01b1msh1ceb69d5fb778f2p1b54a9jsn665f892c86d9\",\n",
    "\t\"x-rapidapi-host\": \"jsearch.p.rapidapi.com\"\n",
    "}\n",
    "\n",
    "response = requests.get(url, headers=headers, params=querystring)"
   ]
  },
  {
   "cell_type": "code",
   "execution_count": 40,
   "id": "381702d0-4e12-4441-9182-6e1ffa923d63",
   "metadata": {},
   "outputs": [],
   "source": [
    "response=response.json()\n",
    "df13=pd.DataFrame(response['data'])"
   ]
  },
  {
   "cell_type": "code",
   "execution_count": 42,
   "id": "c4047200-543e-4e79-9b1a-ac25cd5e109c",
   "metadata": {},
   "outputs": [],
   "source": [
    "url = \"https://jsearch.p.rapidapi.com/search\"\n",
    "\n",
    "querystring = {\"query\":\"Data analyst in portugual\",\"page\":\"4\",\"num_pages\":\"4\",\"date_posted\":\"all\"}\n",
    "\n",
    "headers = {\n",
    "\t\"x-rapidapi-key\": \"9f831f01b1msh1ceb69d5fb778f2p1b54a9jsn665f892c86d9\",\n",
    "\t\"x-rapidapi-host\": \"jsearch.p.rapidapi.com\"\n",
    "}\n",
    "\n",
    "response = requests.get(url, headers=headers, params=querystring)"
   ]
  },
  {
   "cell_type": "code",
   "execution_count": 43,
   "id": "08565ded-dcc0-4828-aa6f-22ab23c3b49b",
   "metadata": {},
   "outputs": [],
   "source": [
    "response=response.json()\n",
    "df14=pd.DataFrame(response['data'])"
   ]
  },
  {
   "cell_type": "code",
   "execution_count": 44,
   "id": "39dbdf55-5618-4f69-b9cb-3c344159ca1e",
   "metadata": {},
   "outputs": [
    {
     "data": {
      "text/plain": [
       "(27, 42)"
      ]
     },
     "execution_count": 44,
     "metadata": {},
     "output_type": "execute_result"
    }
   ],
   "source": [
    "df14.shape"
   ]
  },
  {
   "cell_type": "code",
   "execution_count": 51,
   "id": "ff0d280d-da78-4ea4-bb9b-a57931d25a96",
   "metadata": {},
   "outputs": [
    {
     "name": "stderr",
     "output_type": "stream",
     "text": [
      "C:\\Users\\HP\\AppData\\Local\\Temp\\ipykernel_15056\\2674265933.py:1: FutureWarning: The behavior of DataFrame concatenation with empty or all-NA entries is deprecated. In a future version, this will no longer exclude empty or all-NA columns when determining the result dtypes. To retain the old behavior, exclude the relevant entries before the concat operation.\n",
      "  df_concat=pd.concat([df1,df2,df3,df4,df5,df6,df7,df8,df9,df10,df11,df12,df13,df14],axis=0)\n"
     ]
    }
   ],
   "source": [
    "df_concat=pd.concat([df1,df2,df3,df4,df5,df6,df7,df8,df9,df10,df11,df12,df13,df14],axis=0)"
   ]
  },
  {
   "cell_type": "code",
   "execution_count": 52,
   "id": "dc529986-e184-4636-be82-b48da2d1d6d5",
   "metadata": {},
   "outputs": [
    {
     "data": {
      "text/plain": [
       "(299, 42)"
      ]
     },
     "execution_count": 52,
     "metadata": {},
     "output_type": "execute_result"
    }
   ],
   "source": [
    "df_concat.shape"
   ]
  },
  {
   "cell_type": "code",
   "execution_count": 53,
   "id": "249a6e7d-5741-4f28-84f1-eb0ffc6d409e",
   "metadata": {},
   "outputs": [],
   "source": [
    "df_flat=pd.json_normalize(df_concat.to_dict(orient='records'))"
   ]
  },
  {
   "cell_type": "code",
   "execution_count": 54,
   "id": "bda7a121-716c-4814-a369-58ad7a5bd2b1",
   "metadata": {},
   "outputs": [
    {
     "data": {
      "text/plain": [
       "(299, 51)"
      ]
     },
     "execution_count": 54,
     "metadata": {},
     "output_type": "execute_result"
    }
   ],
   "source": [
    "df_flat.shape"
   ]
  },
  {
   "cell_type": "code",
   "execution_count": 55,
   "id": "c089548b-cfbc-4040-aa74-0a9658ab1c9b",
   "metadata": {},
   "outputs": [],
   "source": [
    "# saving the dataframe\n",
    "df_flat.to_csv('api_jsearch.csv',index=False)"
   ]
  },
  {
   "cell_type": "code",
   "execution_count": 50,
   "id": "38d6c6d1-ff34-4fd1-a387-afc085f82632",
   "metadata": {},
   "outputs": [
    {
     "data": {
      "text/plain": [
       "job_id                                                          object\n",
       "employer_name                                                   object\n",
       "employer_logo                                                   object\n",
       "employer_website                                                object\n",
       "employer_company_type                                           object\n",
       "employer_linkedin                                               object\n",
       "job_publisher                                                   object\n",
       "job_employment_type                                             object\n",
       "job_title                                                       object\n",
       "job_apply_link                                                  object\n",
       "job_apply_is_direct                                               bool\n",
       "job_apply_quality_score                                        float64\n",
       "apply_options                                                   object\n",
       "job_description                                                 object\n",
       "job_is_remote                                                     bool\n",
       "job_posted_at_timestamp                                        float64\n",
       "job_posted_at_datetime_utc                                      object\n",
       "job_city                                                        object\n",
       "job_state                                                       object\n",
       "job_country                                                     object\n",
       "job_latitude                                                   float64\n",
       "job_longitude                                                  float64\n",
       "job_benefits                                                    object\n",
       "job_google_link                                                 object\n",
       "job_offer_expiration_datetime_utc                               object\n",
       "job_offer_expiration_timestamp                                 float64\n",
       "job_required_skills                                             object\n",
       "job_experience_in_place_of_education                            object\n",
       "job_min_salary                                                 float64\n",
       "job_max_salary                                                 float64\n",
       "job_salary_currency                                             object\n",
       "job_salary_period                                               object\n",
       "job_job_title                                                   object\n",
       "job_posting_language                                            object\n",
       "job_onet_soc                                                    object\n",
       "job_onet_job_zone                                               object\n",
       "job_occupational_categories                                     object\n",
       "job_naics_code                                                  object\n",
       "job_naics_name                                                  object\n",
       "job_required_experience.no_experience_required                  object\n",
       "job_required_experience.required_experience_in_months           object\n",
       "job_required_experience.experience_mentioned                    object\n",
       "job_required_experience.experience_preferred                    object\n",
       "job_required_education.postgraduate_degree                      object\n",
       "job_required_education.professional_certification               object\n",
       "job_required_education.high_school                              object\n",
       "job_required_education.associates_degree                        object\n",
       "job_required_education.bachelors_degree                         object\n",
       "job_required_education.degree_mentioned                         object\n",
       "job_required_education.degree_preferred                         object\n",
       "job_required_education.professional_certification_mentioned     object\n",
       "dtype: object"
      ]
     },
     "execution_count": 50,
     "metadata": {},
     "output_type": "execute_result"
    }
   ],
   "source": [
    "df_flat.dtypes"
   ]
  },
  {
   "cell_type": "code",
   "execution_count": 129,
   "id": "1542e113-27b0-4ef2-ac27-7aa8869717bc",
   "metadata": {},
   "outputs": [
    {
     "data": {
      "text/plain": [
       "job_id                                                           0\n",
       "employer_name                                                    0\n",
       "employer_logo                                                    0\n",
       "employer_website                                                 0\n",
       "employer_company_type                                            0\n",
       "employer_linkedin                                              261\n",
       "job_publisher                                                    0\n",
       "job_employment_type                                              0\n",
       "job_title                                                        0\n",
       "job_apply_link                                                   0\n",
       "job_apply_is_direct                                              0\n",
       "job_apply_quality_score                                          0\n",
       "apply_options                                                    0\n",
       "job_description                                                  0\n",
       "job_is_remote                                                    0\n",
       "job_posted_at_timestamp                                          0\n",
       "job_posted_at_datetime_utc                                       0\n",
       "job_city                                                        33\n",
       "job_state                                                       83\n",
       "job_country                                                      0\n",
       "job_latitude                                                     0\n",
       "job_longitude                                                    0\n",
       "job_benefits                                                   261\n",
       "job_google_link                                                  0\n",
       "job_offer_expiration_datetime_utc                               88\n",
       "job_offer_expiration_timestamp                                  88\n",
       "job_required_skills                                            257\n",
       "job_experience_in_place_of_education                             0\n",
       "job_min_salary                                                 252\n",
       "job_max_salary                                                 252\n",
       "job_salary_currency                                            261\n",
       "job_salary_period                                              261\n",
       "job_job_title                                                   83\n",
       "job_posting_language                                             0\n",
       "job_onet_soc                                                     0\n",
       "job_onet_job_zone                                                0\n",
       "job_occupational_categories                                    228\n",
       "job_naics_code                                                   0\n",
       "job_naics_name                                                   0\n",
       "job_required_experience.no_experience_required                   0\n",
       "job_required_experience.required_experience_in_months          174\n",
       "job_required_experience.experience_mentioned                     0\n",
       "job_required_experience.experience_preferred                     0\n",
       "job_required_education.postgraduate_degree                       0\n",
       "job_required_education.professional_certification                0\n",
       "job_required_education.high_school                               0\n",
       "job_required_education.associates_degree                         0\n",
       "job_required_education.bachelors_degree                          0\n",
       "job_required_education.degree_mentioned                          0\n",
       "job_required_education.degree_preferred                          0\n",
       "job_required_education.professional_certification_mentioned      0\n",
       "dtype: int64"
      ]
     },
     "execution_count": 129,
     "metadata": {},
     "output_type": "execute_result"
    }
   ],
   "source": [
    "df_emp.isna().sum()"
   ]
  }
 ],
 "metadata": {
  "kernelspec": {
   "display_name": "Python 3 (ipykernel)",
   "language": "python",
   "name": "python3"
  },
  "language_info": {
   "codemirror_mode": {
    "name": "ipython",
    "version": 3
   },
   "file_extension": ".py",
   "mimetype": "text/x-python",
   "name": "python",
   "nbconvert_exporter": "python",
   "pygments_lexer": "ipython3",
   "version": "3.11.7"
  }
 },
 "nbformat": 4,
 "nbformat_minor": 5
}
